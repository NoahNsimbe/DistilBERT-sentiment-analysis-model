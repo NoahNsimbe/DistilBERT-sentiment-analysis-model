{
 "cells": [
  {
   "cell_type": "code",
   "execution_count": null,
   "id": "94593382-97bc-4441-ad22-b30dc636d6f0",
   "metadata": {},
   "outputs": [],
   "source": [
    "! pip install datasets"
   ]
  },
  {
   "cell_type": "code",
   "execution_count": null,
   "id": "fa298fa0-d187-40e2-8f8c-9088f535a6cb",
   "metadata": {},
   "outputs": [],
   "source": [
    "import pandas as pd\n",
    "from datasets import load_dataset, DatasetDict, DatasetInfo, Dataset, concatenate_datasets\n",
    "import os\n",
    "from huggingface_hub import notebook_login\n",
    "import numpy as np\n",
    "from sklearn.cluster import KMeans\n",
    "from sklearn.model_selection import train_test_split"
   ]
  },
  {
   "cell_type": "code",
   "execution_count": null,
   "id": "48ba9cfe-ae26-4d37-ab06-356de77df8ac",
   "metadata": {},
   "outputs": [],
   "source": [
    "data_cols = ['cleaned_text', 'sentiment']"
   ]
  },
  {
   "cell_type": "code",
   "execution_count": null,
   "id": "ba955c92-5507-46e5-a535-1b0a13eb3f70",
   "metadata": {},
   "outputs": [],
   "source": [
    "train_df = pd.read_csv(\"train_data.csv\", usecols=data_cols)\n",
    "test_eval_df  = pd.read_csv(\"test_data.csv\", usecols=data_cols)"
   ]
  },
  {
   "cell_type": "code",
   "execution_count": null,
   "id": "53af5956-97d9-4f3b-b935-b438135347d4",
   "metadata": {},
   "outputs": [],
   "source": [
    "train_df.rename(columns={\"sentiment\": \"label\", \"cleaned_text\": \"text\"}, inplace=True)\n",
    "test_eval_df.rename(columns={\"sentiment\": \"label\", \"cleaned_text\": \"text\"}, inplace=True)"
   ]
  },
  {
   "cell_type": "code",
   "execution_count": null,
   "id": "20037ef0-92ca-405c-b761-8c5a8d76528f",
   "metadata": {},
   "outputs": [],
   "source": [
    "test_eval_length = len(test_eval_df)"
   ]
  },
  {
   "cell_type": "code",
   "execution_count": null,
   "id": "777adadd-95d1-43f7-b24f-58953e187c9e",
   "metadata": {},
   "outputs": [],
   "source": [
    "test_df = test_eval_df.iloc[:test_eval_length // 2]\n",
    "eval_df = test_eval_df.iloc[test_eval_length // 2:]"
   ]
  },
  {
   "cell_type": "code",
   "execution_count": null,
   "id": "544c21d6-e18d-4537-9a23-370a2e966a52",
   "metadata": {},
   "outputs": [],
   "source": [
    "train_df[\"label\"].value_counts(), test_df[\"label\"].value_counts(), eval_df[\"label\"].value_counts()"
   ]
  },
  {
   "cell_type": "code",
   "execution_count": null,
   "id": "d8c44cc4-144c-4366-9d25-769782d7d989",
   "metadata": {},
   "outputs": [],
   "source": [
    "train_df.to_csv(\"train.csv\", index=False)\n",
    "test_df.to_csv(\"test.csv\", index=False)\n",
    "eval_df.to_csv(\"eval.csv\", index=False)"
   ]
  },
  {
   "cell_type": "code",
   "execution_count": null,
   "id": "49999fe0-7b5d-491a-8dbc-b29be6fb364d",
   "metadata": {},
   "outputs": [],
   "source": [
    "yelp_dataset = DatasetDict.from_csv(\n",
    "    {\"train\": \"train.csv\", \"test\": \"test.csv\", \"eval\": \"eval.csv\"}\n",
    ")"
   ]
  },
  {
   "cell_type": "code",
   "execution_count": null,
   "id": "667fd45a-4186-47cf-b7bd-6b5a94b8eb76",
   "metadata": {},
   "outputs": [],
   "source": [
    "notebook_login()"
   ]
  },
  {
   "cell_type": "code",
   "execution_count": null,
   "id": "864a94aa-410f-45a6-a4d9-f79cd19e77a9",
   "metadata": {},
   "outputs": [],
   "source": [
    "yelp_dataset.push_to_hub(\"noahnsimbe/yelp-dataset\")"
   ]
  }
 ],
 "metadata": {
  "kernelspec": {
   "display_name": "Python 3 (ipykernel)",
   "language": "python",
   "name": "python3"
  },
  "language_info": {
   "codemirror_mode": {
    "name": "ipython",
    "version": 3
   },
   "file_extension": ".py",
   "mimetype": "text/x-python",
   "name": "python",
   "nbconvert_exporter": "python",
   "pygments_lexer": "ipython3",
   "version": "3.8.10"
  }
 },
 "nbformat": 4,
 "nbformat_minor": 5
}
